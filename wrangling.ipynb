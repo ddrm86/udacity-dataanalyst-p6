{
 "cells": [
  {
   "cell_type": "code",
   "execution_count": 1,
   "metadata": {
    "collapsed": true
   },
   "outputs": [],
   "source": [
    "import pandas as pd"
   ]
  },
  {
   "cell_type": "code",
   "execution_count": 51,
   "metadata": {
    "collapsed": false
   },
   "outputs": [
    {
     "data": {
      "text/html": [
       "<div>\n",
       "<table border=\"1\" class=\"dataframe\">\n",
       "  <thead>\n",
       "    <tr style=\"text-align: right;\">\n",
       "      <th></th>\n",
       "      <th>Año</th>\n",
       "      <th>Número Contrato</th>\n",
       "      <th>Artículo</th>\n",
       "      <th>Número Derivado</th>\n",
       "      <th>Presupuesto Total</th>\n",
       "      <th>Id</th>\n",
       "    </tr>\n",
       "  </thead>\n",
       "  <tbody>\n",
       "    <tr>\n",
       "      <th>count</th>\n",
       "      <td>1954</td>\n",
       "      <td>1.954000e+03</td>\n",
       "      <td>19</td>\n",
       "      <td>1954.000000</td>\n",
       "      <td>1954.000000</td>\n",
       "      <td>1954.000000</td>\n",
       "    </tr>\n",
       "    <tr>\n",
       "      <th>mean</th>\n",
       "      <td>2015</td>\n",
       "      <td>2.014023e+08</td>\n",
       "      <td>170</td>\n",
       "      <td>75.291198</td>\n",
       "      <td>59978.599284</td>\n",
       "      <td>976.500000</td>\n",
       "    </tr>\n",
       "    <tr>\n",
       "      <th>std</th>\n",
       "      <td>0</td>\n",
       "      <td>1.163123e+05</td>\n",
       "      <td>0</td>\n",
       "      <td>97.504677</td>\n",
       "      <td>1284170.577840</td>\n",
       "      <td>564.215532</td>\n",
       "    </tr>\n",
       "    <tr>\n",
       "      <th>min</th>\n",
       "      <td>2015</td>\n",
       "      <td>2.012001e+08</td>\n",
       "      <td>170</td>\n",
       "      <td>1.000000</td>\n",
       "      <td>23.000000</td>\n",
       "      <td>0.000000</td>\n",
       "    </tr>\n",
       "    <tr>\n",
       "      <th>25%</th>\n",
       "      <td>2015</td>\n",
       "      <td>2.013006e+08</td>\n",
       "      <td>170</td>\n",
       "      <td>16.000000</td>\n",
       "      <td>1858.000000</td>\n",
       "      <td>488.250000</td>\n",
       "    </tr>\n",
       "    <tr>\n",
       "      <th>50%</th>\n",
       "      <td>2015</td>\n",
       "      <td>2.015000e+08</td>\n",
       "      <td>170</td>\n",
       "      <td>39.000000</td>\n",
       "      <td>10454.500000</td>\n",
       "      <td>976.500000</td>\n",
       "    </tr>\n",
       "    <tr>\n",
       "      <th>75%</th>\n",
       "      <td>2015</td>\n",
       "      <td>2.015003e+08</td>\n",
       "      <td>170</td>\n",
       "      <td>96.750000</td>\n",
       "      <td>29056.250000</td>\n",
       "      <td>1464.750000</td>\n",
       "    </tr>\n",
       "    <tr>\n",
       "      <th>max</th>\n",
       "      <td>2015</td>\n",
       "      <td>2.015009e+08</td>\n",
       "      <td>170</td>\n",
       "      <td>450.000000</td>\n",
       "      <td>56659177.000000</td>\n",
       "      <td>1953.000000</td>\n",
       "    </tr>\n",
       "  </tbody>\n",
       "</table>\n",
       "</div>"
      ],
      "text/plain": [
       "        Año  Número Contrato  Artículo  Número Derivado  Presupuesto Total  \\\n",
       "count  1954     1.954000e+03        19      1954.000000        1954.000000   \n",
       "mean   2015     2.014023e+08       170        75.291198       59978.599284   \n",
       "std       0     1.163123e+05         0        97.504677     1284170.577840   \n",
       "min    2015     2.012001e+08       170         1.000000          23.000000   \n",
       "25%    2015     2.013006e+08       170        16.000000        1858.000000   \n",
       "50%    2015     2.015000e+08       170        39.000000       10454.500000   \n",
       "75%    2015     2.015003e+08       170        96.750000       29056.250000   \n",
       "max    2015     2.015009e+08       170       450.000000    56659177.000000   \n",
       "\n",
       "                Id  \n",
       "count  1954.000000  \n",
       "mean    976.500000  \n",
       "std     564.215532  \n",
       "min       0.000000  \n",
       "25%     488.250000  \n",
       "50%     976.500000  \n",
       "75%    1464.750000  \n",
       "max    1953.000000  "
      ]
     },
     "execution_count": 51,
     "metadata": {},
     "output_type": "execute_result"
    }
   ],
   "source": [
    "c = pd.read_csv('contracts2015.csv', sep='\\t')\n",
    "c.describe()"
   ]
  },
  {
   "cell_type": "code",
   "execution_count": 52,
   "metadata": {
    "collapsed": false
   },
   "outputs": [
    {
     "data": {
      "text/html": [
       "<div>\n",
       "<table border=\"1\" class=\"dataframe\">\n",
       "  <thead>\n",
       "    <tr style=\"text-align: right;\">\n",
       "      <th></th>\n",
       "      <th>Mes</th>\n",
       "      <th>Año</th>\n",
       "      <th>Descripción Centro</th>\n",
       "      <th>Organismo</th>\n",
       "      <th>Número Contrato</th>\n",
       "      <th>Número Expediente</th>\n",
       "      <th>Descripcion</th>\n",
       "      <th>Tipo Contrato</th>\n",
       "      <th>Procedimiento Adjudicación</th>\n",
       "      <th>Artículo</th>\n",
       "      <th>...</th>\n",
       "      <th>Fecha Adjudicación</th>\n",
       "      <th>Fecha Formalización</th>\n",
       "      <th>Número Derivado</th>\n",
       "      <th>Objeto Derivado</th>\n",
       "      <th>Presupuesto Total</th>\n",
       "      <th>Importe Adjudicación</th>\n",
       "      <th>Plazo Derivado</th>\n",
       "      <th>Fecha Aprobación Derivado</th>\n",
       "      <th>Fecha Formalización Derivado</th>\n",
       "      <th>Id</th>\n",
       "    </tr>\n",
       "  </thead>\n",
       "  <tbody>\n",
       "    <tr>\n",
       "      <th>0</th>\n",
       "      <td>Enero</td>\n",
       "      <td>2015</td>\n",
       "      <td>AYUNTAMIENTO DE MADRID</td>\n",
       "      <td>ÁREA DE GOBIERNO DE URBANISMO Y VIVIENDA</td>\n",
       "      <td>201200087</td>\n",
       "      <td>711/2011/18578</td>\n",
       "      <td>ACUERDO MARCO PARA LAS INTERVENCIONES EN EJECU...</td>\n",
       "      <td>Obras</td>\n",
       "      <td>Abierto</td>\n",
       "      <td>NaN</td>\n",
       "      <td>...</td>\n",
       "      <td>23/12/2011</td>\n",
       "      <td>13/01/2012</td>\n",
       "      <td>60</td>\n",
       "      <td>711/2014/10914AVDA. BADAJOZ, 74.- CEIP MÉJICO</td>\n",
       "      <td>108798</td>\n",
       "      <td>108.798,07 €</td>\n",
       "      <td>4,16</td>\n",
       "      <td>15/12/2014</td>\n",
       "      <td>16/12/2014</td>\n",
       "      <td>0</td>\n",
       "    </tr>\n",
       "  </tbody>\n",
       "</table>\n",
       "<p>1 rows × 25 columns</p>\n",
       "</div>"
      ],
      "text/plain": [
       "     Mes   Año      Descripción Centro  \\\n",
       "0  Enero  2015  AYUNTAMIENTO DE MADRID   \n",
       "\n",
       "                                  Organismo  Número Contrato  \\\n",
       "0  ÁREA DE GOBIERNO DE URBANISMO Y VIVIENDA        201200087   \n",
       "\n",
       "  Número Expediente                                        Descripcion  \\\n",
       "0    711/2011/18578  ACUERDO MARCO PARA LAS INTERVENCIONES EN EJECU...   \n",
       "\n",
       "  Tipo Contrato Procedimiento Adjudicación  Artículo ... Fecha Adjudicación  \\\n",
       "0         Obras                    Abierto       NaN ...         23/12/2011   \n",
       "\n",
       "  Fecha Formalización Número Derivado  \\\n",
       "0          13/01/2012              60   \n",
       "\n",
       "                                 Objeto Derivado Presupuesto Total  \\\n",
       "0  711/2014/10914AVDA. BADAJOZ, 74.- CEIP MÉJICO            108798   \n",
       "\n",
       "  Importe Adjudicación Plazo Derivado  Fecha Aprobación Derivado  \\\n",
       "0         108.798,07 €           4,16                 15/12/2014   \n",
       "\n",
       "  Fecha Formalización Derivado  Id  \n",
       "0                   16/12/2014   0  \n",
       "\n",
       "[1 rows x 25 columns]"
      ]
     },
     "execution_count": 52,
     "metadata": {},
     "output_type": "execute_result"
    }
   ],
   "source": [
    "c.head(1)"
   ]
  },
  {
   "cell_type": "code",
   "execution_count": 53,
   "metadata": {
    "collapsed": false
   },
   "outputs": [
    {
     "data": {
      "text/html": [
       "<div>\n",
       "<table border=\"1\" class=\"dataframe\">\n",
       "  <thead>\n",
       "    <tr style=\"text-align: right;\">\n",
       "      <th></th>\n",
       "      <th>Mes</th>\n",
       "      <th>Presupuesto Total</th>\n",
       "    </tr>\n",
       "  </thead>\n",
       "  <tbody>\n",
       "    <tr>\n",
       "      <th>0</th>\n",
       "      <td>Abril</td>\n",
       "      <td>15990.491803</td>\n",
       "    </tr>\n",
       "    <tr>\n",
       "      <th>1</th>\n",
       "      <td>Agosto</td>\n",
       "      <td>26970.113333</td>\n",
       "    </tr>\n",
       "    <tr>\n",
       "      <th>2</th>\n",
       "      <td>Diciembre</td>\n",
       "      <td>51390.747170</td>\n",
       "    </tr>\n",
       "    <tr>\n",
       "      <th>3</th>\n",
       "      <td>Enero</td>\n",
       "      <td>815039.619718</td>\n",
       "    </tr>\n",
       "    <tr>\n",
       "      <th>4</th>\n",
       "      <td>Febrero</td>\n",
       "      <td>20648.666667</td>\n",
       "    </tr>\n",
       "  </tbody>\n",
       "</table>\n",
       "</div>"
      ],
      "text/plain": [
       "         Mes  Presupuesto Total\n",
       "0      Abril       15990.491803\n",
       "1     Agosto       26970.113333\n",
       "2  Diciembre       51390.747170\n",
       "3      Enero      815039.619718\n",
       "4    Febrero       20648.666667"
      ]
     },
     "execution_count": 53,
     "metadata": {},
     "output_type": "execute_result"
    }
   ],
   "source": [
    "c_avg_month = c[['Mes', 'Presupuesto Total']].groupby('Mes', as_index=False).mean()\n",
    "c_avg_month.head()"
   ]
  },
  {
   "cell_type": "code",
   "execution_count": 54,
   "metadata": {
    "collapsed": false
   },
   "outputs": [
    {
     "data": {
      "text/html": [
       "<div>\n",
       "<table border=\"1\" class=\"dataframe\">\n",
       "  <thead>\n",
       "    <tr style=\"text-align: right;\">\n",
       "      <th></th>\n",
       "      <th>Mes</th>\n",
       "      <th>Presupuesto Total</th>\n",
       "    </tr>\n",
       "  </thead>\n",
       "  <tbody>\n",
       "    <tr>\n",
       "      <th>0</th>\n",
       "      <td>Abril</td>\n",
       "      <td>2926260</td>\n",
       "    </tr>\n",
       "    <tr>\n",
       "      <th>1</th>\n",
       "      <td>Agosto</td>\n",
       "      <td>4045517</td>\n",
       "    </tr>\n",
       "    <tr>\n",
       "      <th>2</th>\n",
       "      <td>Diciembre</td>\n",
       "      <td>13618548</td>\n",
       "    </tr>\n",
       "    <tr>\n",
       "      <th>3</th>\n",
       "      <td>Enero</td>\n",
       "      <td>57867813</td>\n",
       "    </tr>\n",
       "    <tr>\n",
       "      <th>4</th>\n",
       "      <td>Febrero</td>\n",
       "      <td>433622</td>\n",
       "    </tr>\n",
       "  </tbody>\n",
       "</table>\n",
       "</div>"
      ],
      "text/plain": [
       "         Mes  Presupuesto Total\n",
       "0      Abril            2926260\n",
       "1     Agosto            4045517\n",
       "2  Diciembre           13618548\n",
       "3      Enero           57867813\n",
       "4    Febrero             433622"
      ]
     },
     "execution_count": 54,
     "metadata": {},
     "output_type": "execute_result"
    }
   ],
   "source": [
    "c_total_month = c[['Mes', 'Presupuesto Total']].groupby('Mes', as_index=False).sum()\n",
    "c_total_month.head()"
   ]
  },
  {
   "cell_type": "code",
   "execution_count": 55,
   "metadata": {
    "collapsed": false
   },
   "outputs": [
    {
     "data": {
      "text/html": [
       "<div>\n",
       "<table border=\"1\" class=\"dataframe\">\n",
       "  <thead>\n",
       "    <tr style=\"text-align: right;\">\n",
       "      <th></th>\n",
       "      <th>Mes</th>\n",
       "      <th>Presupuesto Total</th>\n",
       "    </tr>\n",
       "  </thead>\n",
       "  <tbody>\n",
       "    <tr>\n",
       "      <th>0</th>\n",
       "      <td>Abril</td>\n",
       "      <td>349767</td>\n",
       "    </tr>\n",
       "    <tr>\n",
       "      <th>1</th>\n",
       "      <td>Agosto</td>\n",
       "      <td>199836</td>\n",
       "    </tr>\n",
       "    <tr>\n",
       "      <th>2</th>\n",
       "      <td>Diciembre</td>\n",
       "      <td>1311586</td>\n",
       "    </tr>\n",
       "    <tr>\n",
       "      <th>3</th>\n",
       "      <td>Enero</td>\n",
       "      <td>56659177</td>\n",
       "    </tr>\n",
       "    <tr>\n",
       "      <th>4</th>\n",
       "      <td>Febrero</td>\n",
       "      <td>204303</td>\n",
       "    </tr>\n",
       "  </tbody>\n",
       "</table>\n",
       "</div>"
      ],
      "text/plain": [
       "         Mes  Presupuesto Total\n",
       "0      Abril             349767\n",
       "1     Agosto             199836\n",
       "2  Diciembre            1311586\n",
       "3      Enero           56659177\n",
       "4    Febrero             204303"
      ]
     },
     "execution_count": 55,
     "metadata": {},
     "output_type": "execute_result"
    }
   ],
   "source": [
    "c_max_month = c[['Mes', 'Presupuesto Total']].groupby('Mes', as_index=False).max()\n",
    "c_max_month.head()"
   ]
  },
  {
   "cell_type": "code",
   "execution_count": 56,
   "metadata": {
    "collapsed": false
   },
   "outputs": [],
   "source": [
    "c_max_month = pd.merge(c_max_month, c, on='Presupuesto Total')\n"
   ]
  },
  {
   "cell_type": "code",
   "execution_count": 57,
   "metadata": {
    "collapsed": false
   },
   "outputs": [],
   "source": [
    "c_all = pd.DataFrame({'Month': c_avg_month['Mes']})\n",
    "c_all['Mean'] = c_avg_month['Presupuesto Total']\n",
    "c_all['Total'] = c_total_month['Presupuesto Total']\n",
    "c_all['Biggest'] = c_max_month['Presupuesto Total']\n",
    "c_all['B_company'] = c_max_month['Empresa']\n",
    "c_all['B_description'] = c_max_month['Descripcion']"
   ]
  },
  {
   "cell_type": "code",
   "execution_count": 58,
   "metadata": {
    "collapsed": false
   },
   "outputs": [
    {
     "data": {
      "text/html": [
       "<div>\n",
       "<table border=\"1\" class=\"dataframe\">\n",
       "  <thead>\n",
       "    <tr style=\"text-align: right;\">\n",
       "      <th></th>\n",
       "      <th>Month</th>\n",
       "      <th>Mean</th>\n",
       "      <th>Total</th>\n",
       "      <th>Biggest</th>\n",
       "      <th>B_company</th>\n",
       "      <th>B_description</th>\n",
       "    </tr>\n",
       "  </thead>\n",
       "  <tbody>\n",
       "    <tr>\n",
       "      <th>0</th>\n",
       "      <td>Abril</td>\n",
       "      <td>15990.491803</td>\n",
       "      <td>2926260</td>\n",
       "      <td>349767</td>\n",
       "      <td>FCC CONSTRUCCION; S.A.</td>\n",
       "      <td>ACUERDO MARCO PARA LA REALIZACIÓN DE OBRAS DE ...</td>\n",
       "    </tr>\n",
       "    <tr>\n",
       "      <th>1</th>\n",
       "      <td>Agosto</td>\n",
       "      <td>26970.113333</td>\n",
       "      <td>4045517</td>\n",
       "      <td>199836</td>\n",
       "      <td>EULEN, S.A.</td>\n",
       "      <td>ACUERDO MARCO DE OBRAS DE REFORMA, REPARACIÓN...</td>\n",
       "    </tr>\n",
       "    <tr>\n",
       "      <th>2</th>\n",
       "      <td>Diciembre</td>\n",
       "      <td>51390.747170</td>\n",
       "      <td>13618548</td>\n",
       "      <td>1311586</td>\n",
       "      <td>FCC CONSTRUCCION; S.A.</td>\n",
       "      <td>ACUERDO MARCO PARA LA REALIZACIÓN DE OBRAS DE ...</td>\n",
       "    </tr>\n",
       "    <tr>\n",
       "      <th>3</th>\n",
       "      <td>Enero</td>\n",
       "      <td>815039.619718</td>\n",
       "      <td>57867813</td>\n",
       "      <td>56659177</td>\n",
       "      <td>ENDESA ENERGÍA, S.A.U.</td>\n",
       "      <td>ACUERDO MARCO PARA EL SUMINISTRO DE ENERGÍA EL...</td>\n",
       "    </tr>\n",
       "    <tr>\n",
       "      <th>4</th>\n",
       "      <td>Febrero</td>\n",
       "      <td>20648.666667</td>\n",
       "      <td>433622</td>\n",
       "      <td>204303</td>\n",
       "      <td>FCC CONSTRUCCION; S.A.</td>\n",
       "      <td>ACUERDO MARCO PARA LA REALIZACIÓN DE OBRAS DER...</td>\n",
       "    </tr>\n",
       "    <tr>\n",
       "      <th>5</th>\n",
       "      <td>Julio</td>\n",
       "      <td>33742.480620</td>\n",
       "      <td>8705560</td>\n",
       "      <td>447542</td>\n",
       "      <td>FCC CONSTRUCCION; S.A.</td>\n",
       "      <td>ACUERDO MARCO PARA LA REALIZACIÓN DE OBRAS DE ...</td>\n",
       "    </tr>\n",
       "    <tr>\n",
       "      <th>6</th>\n",
       "      <td>Junio</td>\n",
       "      <td>45710.773006</td>\n",
       "      <td>7450856</td>\n",
       "      <td>2697121</td>\n",
       "      <td>FCC CONSTRUCCION; S.A.</td>\n",
       "      <td>ACUERDO MARCO PARA LA REALIZACIÓN DE OBRAS DE ...</td>\n",
       "    </tr>\n",
       "    <tr>\n",
       "      <th>7</th>\n",
       "      <td>Marzo</td>\n",
       "      <td>10488.898734</td>\n",
       "      <td>828623</td>\n",
       "      <td>213744</td>\n",
       "      <td>COARSA, S.A.</td>\n",
       "      <td>ACUERDO MARCO PARA LAS INTERVENCIONES EN EJECU...</td>\n",
       "    </tr>\n",
       "    <tr>\n",
       "      <th>8</th>\n",
       "      <td>Mayo</td>\n",
       "      <td>12189.714286</td>\n",
       "      <td>1706560</td>\n",
       "      <td>234659</td>\n",
       "      <td>ORTIZ CONSTRUCCIONES Y PROYECTOS, S.A.</td>\n",
       "      <td>ACUERDO MARCO PARA LA REALIZACIÓN DE OBRAS DER...</td>\n",
       "    </tr>\n",
       "    <tr>\n",
       "      <th>9</th>\n",
       "      <td>Noviembre</td>\n",
       "      <td>29526.066667</td>\n",
       "      <td>4428910</td>\n",
       "      <td>460900</td>\n",
       "      <td>ILUMINACIONES XIMENEZ S.A.</td>\n",
       "      <td>ACUERDO MARCO DE SERVICIOS PARA LA INSTALACIÓN...</td>\n",
       "    </tr>\n",
       "    <tr>\n",
       "      <th>10</th>\n",
       "      <td>Octubre</td>\n",
       "      <td>35640.955801</td>\n",
       "      <td>6451013</td>\n",
       "      <td>340216</td>\n",
       "      <td>FCC CONSTRUCCION; S.A.</td>\n",
       "      <td>ACUERDO MARCO PARA LA REALIZACIÓN DE OBRAS DE ...</td>\n",
       "    </tr>\n",
       "    <tr>\n",
       "      <th>11</th>\n",
       "      <td>Septiembre</td>\n",
       "      <td>29811.948805</td>\n",
       "      <td>8734901</td>\n",
       "      <td>575015</td>\n",
       "      <td>COARSA, S.A.</td>\n",
       "      <td>ACUERDO MARCO PARA LAS INTERVENCIONES EN EJECU...</td>\n",
       "    </tr>\n",
       "  </tbody>\n",
       "</table>\n",
       "</div>"
      ],
      "text/plain": [
       "         Month           Mean     Total   Biggest  \\\n",
       "0        Abril   15990.491803   2926260    349767   \n",
       "1       Agosto   26970.113333   4045517    199836   \n",
       "2    Diciembre   51390.747170  13618548   1311586   \n",
       "3        Enero  815039.619718  57867813  56659177   \n",
       "4      Febrero   20648.666667    433622    204303   \n",
       "5        Julio   33742.480620   8705560    447542   \n",
       "6        Junio   45710.773006   7450856   2697121   \n",
       "7        Marzo   10488.898734    828623    213744   \n",
       "8         Mayo   12189.714286   1706560    234659   \n",
       "9    Noviembre   29526.066667   4428910    460900   \n",
       "10     Octubre   35640.955801   6451013    340216   \n",
       "11  Septiembre   29811.948805   8734901    575015   \n",
       "\n",
       "                                 B_company  \\\n",
       "0                   FCC CONSTRUCCION; S.A.   \n",
       "1                              EULEN, S.A.   \n",
       "2                   FCC CONSTRUCCION; S.A.   \n",
       "3                   ENDESA ENERGÍA, S.A.U.   \n",
       "4                   FCC CONSTRUCCION; S.A.   \n",
       "5                   FCC CONSTRUCCION; S.A.   \n",
       "6                   FCC CONSTRUCCION; S.A.   \n",
       "7                             COARSA, S.A.   \n",
       "8   ORTIZ CONSTRUCCIONES Y PROYECTOS, S.A.   \n",
       "9               ILUMINACIONES XIMENEZ S.A.   \n",
       "10                  FCC CONSTRUCCION; S.A.   \n",
       "11                            COARSA, S.A.   \n",
       "\n",
       "                                        B_description  \n",
       "0   ACUERDO MARCO PARA LA REALIZACIÓN DE OBRAS DE ...  \n",
       "1    ACUERDO MARCO DE OBRAS DE REFORMA, REPARACIÓN...  \n",
       "2   ACUERDO MARCO PARA LA REALIZACIÓN DE OBRAS DE ...  \n",
       "3   ACUERDO MARCO PARA EL SUMINISTRO DE ENERGÍA EL...  \n",
       "4   ACUERDO MARCO PARA LA REALIZACIÓN DE OBRAS DER...  \n",
       "5   ACUERDO MARCO PARA LA REALIZACIÓN DE OBRAS DE ...  \n",
       "6   ACUERDO MARCO PARA LA REALIZACIÓN DE OBRAS DE ...  \n",
       "7   ACUERDO MARCO PARA LAS INTERVENCIONES EN EJECU...  \n",
       "8   ACUERDO MARCO PARA LA REALIZACIÓN DE OBRAS DER...  \n",
       "9   ACUERDO MARCO DE SERVICIOS PARA LA INSTALACIÓN...  \n",
       "10  ACUERDO MARCO PARA LA REALIZACIÓN DE OBRAS DE ...  \n",
       "11  ACUERDO MARCO PARA LAS INTERVENCIONES EN EJECU...  "
      ]
     },
     "execution_count": 58,
     "metadata": {},
     "output_type": "execute_result"
    }
   ],
   "source": [
    "c_all"
   ]
  },
  {
   "cell_type": "code",
   "execution_count": 59,
   "metadata": {
    "collapsed": false
   },
   "outputs": [
    {
     "name": "stdout",
     "output_type": "stream",
     "text": [
      "Populating the interactive namespace from numpy and matplotlib\n"
     ]
    },
    {
     "data": {
      "text/plain": [
       "<matplotlib.axes._subplots.AxesSubplot at 0xe884d68>"
      ]
     },
     "execution_count": 59,
     "metadata": {},
     "output_type": "execute_result"
    },
    {
     "data": {
      "image/png": "[encoded data removed]",
      "text/plain": [
       "<matplotlib.figure.Figure at 0xca2a550>"
      ]
     },
     "metadata": {},
     "output_type": "display_data"
    }
   ],
   "source": [
    "%pylab inline\n",
    "c_all.plot()"
   ]
  },
  {
   "cell_type": "code",
   "execution_count": 60,
   "metadata": {
    "collapsed": true
   },
   "outputs": [],
   "source": [
    "c_all.to_csv('out.csv', sep=';', encoding='utf-8')"
   ]
  },
  {
   "cell_type": "code",
   "execution_count": null,
   "metadata": {
    "collapsed": true
   },
   "outputs": [],
   "source": []
  }
 ],
 "metadata": {
  "kernelspec": {
   "display_name": "Python 2",
   "language": "python",
   "name": "python2"
  },
  "language_info": {
   "codemirror_mode": {
    "name": "ipython",
    "version": 2
   },
   "file_extension": ".py",
   "mimetype": "text/x-python",
   "name": "python",
   "nbconvert_exporter": "python",
   "pygments_lexer": "ipython2",
   "version": "2.7.11"
  }
 },
 "nbformat": 4,
 "nbformat_minor": 0
}
